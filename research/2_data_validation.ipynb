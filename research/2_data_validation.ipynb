{
 "cells": [
  {
   "cell_type": "code",
   "execution_count": 1,
   "metadata": {},
   "outputs": [],
   "source": [
    "import os"
   ]
  },
  {
   "cell_type": "code",
   "execution_count": 2,
   "metadata": {},
   "outputs": [],
   "source": [
    "os.chdir(\"../\")"
   ]
  },
  {
   "cell_type": "code",
   "execution_count": 3,
   "metadata": {},
   "outputs": [
    {
     "data": {
      "text/plain": [
       "'/Users/mani/Desktop/mlops/datascienceproject'"
      ]
     },
     "execution_count": 3,
     "metadata": {},
     "output_type": "execute_result"
    }
   ],
   "source": [
    "%pwd"
   ]
  },
  {
   "cell_type": "code",
   "execution_count": 4,
   "metadata": {},
   "outputs": [
    {
     "data": {
      "text/html": [
       "<div>\n",
       "<style scoped>\n",
       "    .dataframe tbody tr th:only-of-type {\n",
       "        vertical-align: middle;\n",
       "    }\n",
       "\n",
       "    .dataframe tbody tr th {\n",
       "        vertical-align: top;\n",
       "    }\n",
       "\n",
       "    .dataframe thead th {\n",
       "        text-align: right;\n",
       "    }\n",
       "</style>\n",
       "<table border=\"1\" class=\"dataframe\">\n",
       "  <thead>\n",
       "    <tr style=\"text-align: right;\">\n",
       "      <th></th>\n",
       "      <th>fixed acidity</th>\n",
       "      <th>volatile acidity</th>\n",
       "      <th>citric acid</th>\n",
       "      <th>residual sugar</th>\n",
       "      <th>chlorides</th>\n",
       "      <th>free sulfur dioxide</th>\n",
       "      <th>total sulfur dioxide</th>\n",
       "      <th>density</th>\n",
       "      <th>pH</th>\n",
       "      <th>sulphates</th>\n",
       "      <th>alcohol</th>\n",
       "      <th>quality</th>\n",
       "    </tr>\n",
       "  </thead>\n",
       "  <tbody>\n",
       "    <tr>\n",
       "      <th>0</th>\n",
       "      <td>7.4</td>\n",
       "      <td>0.70</td>\n",
       "      <td>0.00</td>\n",
       "      <td>1.9</td>\n",
       "      <td>0.076</td>\n",
       "      <td>11.0</td>\n",
       "      <td>34.0</td>\n",
       "      <td>0.9978</td>\n",
       "      <td>3.51</td>\n",
       "      <td>0.56</td>\n",
       "      <td>9.4</td>\n",
       "      <td>5</td>\n",
       "    </tr>\n",
       "    <tr>\n",
       "      <th>1</th>\n",
       "      <td>7.8</td>\n",
       "      <td>0.88</td>\n",
       "      <td>0.00</td>\n",
       "      <td>2.6</td>\n",
       "      <td>0.098</td>\n",
       "      <td>25.0</td>\n",
       "      <td>67.0</td>\n",
       "      <td>0.9968</td>\n",
       "      <td>3.20</td>\n",
       "      <td>0.68</td>\n",
       "      <td>9.8</td>\n",
       "      <td>5</td>\n",
       "    </tr>\n",
       "    <tr>\n",
       "      <th>2</th>\n",
       "      <td>7.8</td>\n",
       "      <td>0.76</td>\n",
       "      <td>0.04</td>\n",
       "      <td>2.3</td>\n",
       "      <td>0.092</td>\n",
       "      <td>15.0</td>\n",
       "      <td>54.0</td>\n",
       "      <td>0.9970</td>\n",
       "      <td>3.26</td>\n",
       "      <td>0.65</td>\n",
       "      <td>9.8</td>\n",
       "      <td>5</td>\n",
       "    </tr>\n",
       "    <tr>\n",
       "      <th>3</th>\n",
       "      <td>11.2</td>\n",
       "      <td>0.28</td>\n",
       "      <td>0.56</td>\n",
       "      <td>1.9</td>\n",
       "      <td>0.075</td>\n",
       "      <td>17.0</td>\n",
       "      <td>60.0</td>\n",
       "      <td>0.9980</td>\n",
       "      <td>3.16</td>\n",
       "      <td>0.58</td>\n",
       "      <td>9.8</td>\n",
       "      <td>6</td>\n",
       "    </tr>\n",
       "    <tr>\n",
       "      <th>4</th>\n",
       "      <td>7.4</td>\n",
       "      <td>0.70</td>\n",
       "      <td>0.00</td>\n",
       "      <td>1.9</td>\n",
       "      <td>0.076</td>\n",
       "      <td>11.0</td>\n",
       "      <td>34.0</td>\n",
       "      <td>0.9978</td>\n",
       "      <td>3.51</td>\n",
       "      <td>0.56</td>\n",
       "      <td>9.4</td>\n",
       "      <td>5</td>\n",
       "    </tr>\n",
       "  </tbody>\n",
       "</table>\n",
       "</div>"
      ],
      "text/plain": [
       "   fixed acidity  volatile acidity  citric acid  residual sugar  chlorides  \\\n",
       "0            7.4              0.70         0.00             1.9      0.076   \n",
       "1            7.8              0.88         0.00             2.6      0.098   \n",
       "2            7.8              0.76         0.04             2.3      0.092   \n",
       "3           11.2              0.28         0.56             1.9      0.075   \n",
       "4            7.4              0.70         0.00             1.9      0.076   \n",
       "\n",
       "   free sulfur dioxide  total sulfur dioxide  density    pH  sulphates  \\\n",
       "0                 11.0                  34.0   0.9978  3.51       0.56   \n",
       "1                 25.0                  67.0   0.9968  3.20       0.68   \n",
       "2                 15.0                  54.0   0.9970  3.26       0.65   \n",
       "3                 17.0                  60.0   0.9980  3.16       0.58   \n",
       "4                 11.0                  34.0   0.9978  3.51       0.56   \n",
       "\n",
       "   alcohol  quality  \n",
       "0      9.4        5  \n",
       "1      9.8        5  \n",
       "2      9.8        5  \n",
       "3      9.8        6  \n",
       "4      9.4        5  "
      ]
     },
     "execution_count": 4,
     "metadata": {},
     "output_type": "execute_result"
    }
   ],
   "source": [
    "import pandas as pd\n",
    "\n",
    "data=pd.read_csv(\"artifacts/data_ingestion/winequality-red.csv\")\n",
    "data.head()"
   ]
  },
  {
   "cell_type": "code",
   "execution_count": 7,
   "metadata": {},
   "outputs": [
    {
     "data": {
      "text/plain": [
       "(1599, 12)"
      ]
     },
     "execution_count": 7,
     "metadata": {},
     "output_type": "execute_result"
    }
   ],
   "source": [
    "data.isnull\n",
    "data.shape"
   ]
  },
  {
   "cell_type": "code",
   "execution_count": null,
   "metadata": {},
   "outputs": [],
   "source": [
    "from dataclasses import dataclass\n",
    "from pathlib import Path\n",
    "\n",
    "@dataclass\n",
    "class DataValidationConfig:\n",
    "    root_dir:Path\n",
    "    STATUS_FILE:str\n",
    "    unzip_data_dir:Path\n",
    "    all_schema:dict ## we are defining allschema to get all schema details in schema.yaml"
   ]
  },
  {
   "cell_type": "code",
   "execution_count": 9,
   "metadata": {},
   "outputs": [],
   "source": [
    "from src.datascience.constants import *\n",
    "from src.datascience.utils.common import read_yaml, create_directories"
   ]
  },
  {
   "cell_type": "code",
   "execution_count": 13,
   "metadata": {},
   "outputs": [],
   "source": [
    "# Definition of a class named ConfigurationManager, which is used to manage configurations.\n",
    "class ConfigurationManager:\n",
    "\n",
    "    # The constructor method (__init__) initializes an instance of the class with optional file paths for configuration.\n",
    "    def __init__(\n",
    "        self,\n",
    "        config_filepath = CONFIG_FILE_PATH,  # Default file path for the main configuration file\n",
    "        params_filepath = PARAMS_FILE_PATH,  # Default file path for the parameters file\n",
    "        schema_filepath = SCHEMA_FILE_PATH   # Default file path for the schema file\n",
    "    ):\n",
    "\n",
    "        # Reads the configuration YAML file and stores its contents in self.config\n",
    "        self.config = read_yaml(config_filepath)\n",
    "\n",
    "        # Reads the parameters YAML file and stores its contents in self.params\n",
    "        self.params = read_yaml(params_filepath)\n",
    "\n",
    "        # Reads the schema YAML file and stores its contents in self.schema\n",
    "        self.schema = read_yaml(schema_filepath)\n",
    "\n",
    "        # Calls create_directories to ensure the artifacts root directory exists, as specified in the config.\n",
    "        create_directories([self.config.artifacts_root])\n",
    "\n",
    "    # Method to retrieve the data validation configuration as a DataValidationConfig object\n",
    "    def get_data_validation_config(self) -> DataValidationConfig:\n",
    "\n",
    "        # Accesses the data_validation section from the main config file, which contains specific settings for data validation\n",
    "        config = self.config.data_validation\n",
    "\n",
    "        # Accesses column schema information from the schema file, specifying the expected structure of the data\n",
    "        schema = self.schema.COLUMNS\n",
    "\n",
    "        # Ensures the root directory for data validation exists, creating it if necessary\n",
    "        create_directories([config.root_dir])\n",
    "\n",
    "        # Creates an instance of DataValidationConfig with settings required for data validation\n",
    "        data_validation_config = DataValidationConfig(\n",
    "            root_dir=config.root_dir,            # Sets the root directory for data validation\n",
    "            STATUS_FILE=config.STATUS_FILE,      # Path to a status file for tracking validation status\n",
    "            unzip_data_dir=config.unzip_data_dir, # Directory where unzipped data will be stored\n",
    "            all_schema=schema                    # Schema information to validate data columns\n",
    "        )\n",
    "\n",
    "        # Returns the data validation configuration object, which contains all required settings for validation tasks\n",
    "        return data_validation_config\n"
   ]
  },
  {
   "cell_type": "code",
   "execution_count": 11,
   "metadata": {},
   "outputs": [],
   "source": [
    "import os\n",
    "from src.datascience import logger"
   ]
  },
  {
   "cell_type": "code",
   "execution_count": null,
   "metadata": {},
   "outputs": [],
   "source": [
    "# Definition of the DataValidation class, which handles data validation tasks.\n",
    "class DataValidation:\n",
    "    \n",
    "    # Initialization method to set up the DataValidation object with configuration.\n",
    "    def __init__(self, config: DataValidationConfig):  \n",
    "        # `config` is an instance of DataValidationConfig, containing paths and schema for validation.\n",
    "        self.config = config  # Assigns the config parameter to an instance variable for later use.\n",
    "\n",
    "    # Method to validate if all columns in the data match the expected schema columns.\n",
    "    def validate_all_columns(self) -> bool:  \n",
    "        # Indicates that this method will return a boolean value (True or False).\n",
    "\n",
    "        try:\n",
    "            validation_status = None  # Initializes the variable to store validation result (True/False).\n",
    "\n",
    "            # Reads the CSV file specified in the config's unzip_data_dir path into a DataFrame.\n",
    "            data = pd.read_csv(self.config.unzip_data_dir)  \n",
    "\n",
    "            # Converts the DataFrame's columns to a list for easy comparison.\n",
    "            all_cols = list(data.columns)  \n",
    "\n",
    "            # Retrieves the expected schema columns from the config for validation.\n",
    "            all_schema = self.config.all_schema.keys()  \n",
    "\n",
    "            # Iterates over each column in the CSV data.\n",
    "            for col in all_cols:  \n",
    "                # Checks if the current column is not in the schema.\n",
    "                if col not in all_schema:  \n",
    "                    # If a column is missing in the schema, set validation status to False.\n",
    "                    validation_status = False  \n",
    "                    \n",
    "                    # Writes the validation status to a status file, indicating failure.\n",
    "                    with open(self.config.STATUS_FILE, 'w') as f:  \n",
    "                        f.write(f\"Validation status: {validation_status}\")  \n",
    "                else:\n",
    "                    # If the column is in the schema, set validation status to True.\n",
    "                    validation_status = True  \n",
    "\n",
    "                    # Writes the validation status to a status file, indicating success.\n",
    "                    with open(self.config.STATUS_FILE, 'w') as f:  \n",
    "                        f.write(f\"Validation status: {validation_status}\")  \n",
    "\n",
    "            # Returns the final validation status (True if all columns are valid, otherwise False).\n",
    "            return validation_status  \n",
    "\n",
    "        # Catches any exceptions that occur during validation.\n",
    "        except Exception as e:  \n",
    "            # Raises the exception again for handling outside this method.\n",
    "            raise e  \n"
   ]
  },
  {
   "cell_type": "code",
   "execution_count": null,
   "metadata": {},
   "outputs": [],
   "source": []
  },
  {
   "cell_type": "code",
   "execution_count": null,
   "metadata": {},
   "outputs": [],
   "source": []
  },
  {
   "cell_type": "code",
   "execution_count": null,
   "metadata": {},
   "outputs": [],
   "source": []
  },
  {
   "cell_type": "code",
   "execution_count": null,
   "metadata": {},
   "outputs": [],
   "source": []
  },
  {
   "cell_type": "code",
   "execution_count": null,
   "metadata": {},
   "outputs": [],
   "source": []
  }
 ],
 "metadata": {
  "kernelspec": {
   "display_name": "Python 3",
   "language": "python",
   "name": "python3"
  },
  "language_info": {
   "codemirror_mode": {
    "name": "ipython",
    "version": 3
   },
   "file_extension": ".py",
   "mimetype": "text/x-python",
   "name": "python",
   "nbconvert_exporter": "python",
   "pygments_lexer": "ipython3",
   "version": "3.10.0"
  }
 },
 "nbformat": 4,
 "nbformat_minor": 2
}
