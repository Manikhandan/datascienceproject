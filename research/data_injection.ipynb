{
 "cells": [
  {
   "cell_type": "code",
   "execution_count": 1,
   "metadata": {},
   "outputs": [],
   "source": [
    "import os"
   ]
  },
  {
   "cell_type": "code",
   "execution_count": 2,
   "metadata": {},
   "outputs": [
    {
     "data": {
      "text/plain": [
       "'/Users/mani/Desktop/mlops/datascienceproject/research'"
      ]
     },
     "execution_count": 2,
     "metadata": {},
     "output_type": "execute_result"
    }
   ],
   "source": [
    "%pwd"
   ]
  },
  {
   "cell_type": "code",
   "execution_count": 3,
   "metadata": {},
   "outputs": [],
   "source": [
    "os.chdir(\"../\")"
   ]
  },
  {
   "cell_type": "code",
   "execution_count": 4,
   "metadata": {},
   "outputs": [
    {
     "data": {
      "text/plain": [
       "'/Users/mani/Desktop/mlops/datascienceproject'"
      ]
     },
     "execution_count": 4,
     "metadata": {},
     "output_type": "execute_result"
    }
   ],
   "source": [
    "%pwd"
   ]
  },
  {
   "cell_type": "code",
   "execution_count": 5,
   "metadata": {},
   "outputs": [],
   "source": [
    "from dataclasses import dataclass\n",
    "from pathlib import Path\n",
    "\n",
    "@dataclass\n",
    "class DataIngestionConfig:  ## we need to mention all the variables which mentioned in config.yaml & atlast we need to assign all these values in pipelene\n",
    "    root_dir: Path\n",
    "    source_URL: str\n",
    "    local_data_file: Path\n",
    "    unzip_dir: Path"
   ]
  },
  {
   "cell_type": "code",
   "execution_count": 6,
   "metadata": {},
   "outputs": [],
   "source": [
    "from src.datascience.constants import *\n",
    "from src.datascience.utils.common import read_yaml, create_directories"
   ]
  },
  {
   "cell_type": "code",
   "execution_count": 7,
   "metadata": {},
   "outputs": [],
   "source": [
    "## whenver this configurationmanager calls then whaterver mwntioned in config, schema, params file needs to be call here\n",
    "## so using config_filepath we are getting all info in those 3 files totally\n",
    "\n",
    "## This class manages configurations for various stages of the ML pipeline\n",
    "class ConfigurationManager: \n",
    "\n",
    "    ## Initializes the ConfigurationManager instance, loading configurations from specified files\n",
    "    def __init__(self,\n",
    "                 config_filepath=CONFIG_FILE_PATH,  ## Path to main config file (default defined by CONFIG_FILE_PATH)\n",
    "                 params_filepath=PARAMS_FILE_PATH,  ## Path to parameters file for model parameters (default defined by PARAMS_FILE_PATH)\n",
    "                 schema_filepath=SCHEMA_FILE_PATH): ## Path to schema file for data validation (default defined by SCHEMA_FILE_PATH)\n",
    "\n",
    "        # Reads YAML content from the provided config file path\n",
    "        self.config = read_yaml(config_filepath)  \n",
    "        \n",
    "        # Reads YAML content from the parameters file for model hyperparameters\n",
    "        self.params = read_yaml(params_filepath)\n",
    "        \n",
    "        # Reads YAML content from the schema file for data validation schema\n",
    "        self.schema = read_yaml(schema_filepath)\n",
    "\n",
    "        ## Creates an artifacts folder (or any other specified root directory) to store all generated files\n",
    "        create_directories([self.config.artifacts_root]) \n",
    "\n",
    "    ## we ned to intiate data injection so we need all config info here, thats y creatingthis function get data injection config\n",
    "    ## Method to retrieve data ingestion configurations; called whenever we need settings for the data ingestion step\n",
    "    def get_data_ingestion_config(self) -> DataIngestionConfig:\n",
    "        \n",
    "        # Extracts the 'data_ingestion' section from the main configuration file\n",
    "        config = self.config.data_ingestion\n",
    "\n",
    "        # Ensures the root directory for data ingestion is created and ready to store ingested data\n",
    "        create_directories([config.root_dir])\n",
    "\n",
    "        # Initializes and returns a DataIngestionConfig object with specific configurations for data ingestion\n",
    "        data_ingestion_config = DataIngestionConfig(\n",
    "            root_dir=config.root_dir,  ## Directory to store ingested data files\n",
    "            source_URL=config.source_URL,  ## URL for downloading data\n",
    "            local_data_file=config.local_data_file,  ## Local path to save the downloaded data file\n",
    "            unzip_dir=config.unzip_dir  ## Directory to extract the downloaded file\n",
    "\n",
    "        )\n",
    "        return data_ingestion_config  ##this data injecton config will parse to my data injection pipeline Returns the configured DataIngestionConfig instance\n"
   ]
  },
  {
   "cell_type": "code",
   "execution_count": null,
   "metadata": {},
   "outputs": [],
   "source": []
  },
  {
   "cell_type": "code",
   "execution_count": 8,
   "metadata": {},
   "outputs": [],
   "source": [
    "import os\n",
    "import urllib.request as request\n",
    "from src.datascience import logger\n",
    "import zipfile"
   ]
  },
  {
   "cell_type": "code",
   "execution_count": 9,
   "metadata": {},
   "outputs": [],
   "source": [
    "## Data Ingestion component responsible for handling data downloading and extraction\n",
    "class DataIngestion:\n",
    "    \n",
    "    ## Initializes the DataIngestion instance with a given configuration\n",
    "    def __init__(self, config: DataIngestionConfig):\n",
    "        \n",
    "        # Sets the configuration for data ingestion, provided by a DataIngestionConfig object\n",
    "        self.config = config\n",
    "\n",
    "    ## Downloads the file from a URL if it does not already exist locally\n",
    "    def download_file(self):\n",
    "        \n",
    "        # Checks if the file does not already exist at the specified path\n",
    "        if not os.path.exists(self.config.local_data_file):\n",
    "            \n",
    "            # Downloads the file from the source URL to the local file path\n",
    "            filename, headers = request.urlretrieve(\n",
    "                url=self.config.source_URL,  ## URL to download the file from\n",
    "                filename=self.config.local_data_file  ## Local file path to save the downloaded file\n",
    "            )\n",
    "            \n",
    "            # Logs the download details with filename and headers\n",
    "            logger.info(f\"{filename} downloaded with the following info: \\n{headers}\")\n",
    "        \n",
    "        # If the file exists, logs a message that it already exists\n",
    "        else:\n",
    "            logger.info(f\"File already exists\")\n",
    "\n",
    "    ## Extracts the downloaded zip file into the specified directory\n",
    "    def extract_zip_file(self):\n",
    "        \"\"\"\n",
    "        Extracts the zip file contents into the directory specified in the configuration\n",
    "        Function returns None\n",
    "        \"\"\"\n",
    "        \n",
    "        # Sets the path to unzip files to, as specified in the configuration\n",
    "        unzip_path = self.config.unzip_dir\n",
    "        \n",
    "        # Ensures the target directory for unzipping exists; if not, creates it\n",
    "        os.makedirs(unzip_path, exist_ok=True)\n",
    "        \n",
    "        # Opens the downloaded zip file in read mode to extract its contents\n",
    "        with zipfile.ZipFile(self.config.local_data_file, 'r') as zip_ref:\n",
    "            \n",
    "            # Extracts all files in the zip to the specified directory\n",
    "            zip_ref.extractall(unzip_path)\n"
   ]
  },
  {
   "cell_type": "code",
   "execution_count": null,
   "metadata": {},
   "outputs": [
    {
     "name": "stdout",
     "output_type": "stream",
     "text": [
      "[2024-11-05 16:35:42,026: INFO: common: yaml file: config/config.yaml loaded successfully]\n",
      "[2024-11-05 16:35:42,028: INFO: common: yaml file: params.yaml loaded successfully]\n",
      "[2024-11-05 16:35:42,030: INFO: common: yaml file: schema.yaml loaded successfully]\n",
      "[2024-11-05 16:35:42,031: INFO: common: created directory at: artifacts]\n",
      "[2024-11-05 16:35:42,031: INFO: common: created directory at: artifacts/data_ingestion]\n",
      "[2024-11-05 16:35:42,878: INFO: 2284664551: artifacts/data_ingestion/data.zip downloaded with the following info: \n",
      "Connection: close\n",
      "Content-Length: 23329\n",
      "Cache-Control: max-age=300\n",
      "Content-Security-Policy: default-src 'none'; style-src 'unsafe-inline'; sandbox\n",
      "Content-Type: application/zip\n",
      "ETag: \"c69888a4ae59bc5a893392785a938ccd4937981c06ba8a9d6a21aa52b4ab5b6e\"\n",
      "Strict-Transport-Security: max-age=31536000\n",
      "X-Content-Type-Options: nosniff\n",
      "X-Frame-Options: deny\n",
      "X-XSS-Protection: 1; mode=block\n",
      "X-GitHub-Request-Id: C4FE:38F039:1D681E:245137:6729FC06\n",
      "Accept-Ranges: bytes\n",
      "Date: Tue, 05 Nov 2024 11:05:42 GMT\n",
      "Via: 1.1 varnish\n",
      "X-Served-By: cache-maa10242-MAA\n",
      "X-Cache: MISS\n",
      "X-Cache-Hits: 0\n",
      "X-Timer: S1730804743.536868,VS0,VE294\n",
      "Vary: Authorization,Accept-Encoding,Origin\n",
      "Access-Control-Allow-Origin: *\n",
      "Cross-Origin-Resource-Policy: cross-origin\n",
      "X-Fastly-Request-ID: 5464f4b21a630f5ccddfe26e38dbffd173cfe4d1\n",
      "Expires: Tue, 05 Nov 2024 11:10:42 GMT\n",
      "Source-Age: 0\n",
      "\n",
      "]\n"
     ]
    }
   ],
   "source": [
    "# Start of a try-except block to handle any exceptions during the data ingestion process\n",
    "## finally we are merging all downloading fliles , unzip file \n",
    "try:\n",
    "    \n",
    "    # Initializes a ConfigurationManager instance to load configuration files\n",
    "    config = ConfigurationManager()\n",
    "    \n",
    "    # Retrieves the data ingestion configuration using the ConfigurationManager instance\n",
    "    data_ingestion_config = config.get_data_ingestion_config()\n",
    "    \n",
    "    # Initializes a DataIngestion instance with the retrieved data ingestion configuration\n",
    "    data_ingestion = DataIngestion(config=data_ingestion_config)\n",
    "    \n",
    "    # Calls the method to download the file from the specified URL if it is not already present locally\n",
    "    data_ingestion.download_file()\n",
    "    \n",
    "    # Calls the method to extract the contents of the downloaded zip file to the specified directory\n",
    "    data_ingestion.extract_zip_file()\n",
    "\n",
    "# Catches any exceptions that occur within the try block\n",
    "except Exception as e:\n",
    "    \n",
    "    # Re-raises the caught exception to propagate the error, so it can be handled or logged by higher-level code\n",
    "    raise e\n"
   ]
  }
 ],
 "metadata": {
  "kernelspec": {
   "display_name": "Python 3",
   "language": "python",
   "name": "python3"
  },
  "language_info": {
   "codemirror_mode": {
    "name": "ipython",
    "version": 3
   },
   "file_extension": ".py",
   "mimetype": "text/x-python",
   "name": "python",
   "nbconvert_exporter": "python",
   "pygments_lexer": "ipython3",
   "version": "3.10.0"
  }
 },
 "nbformat": 4,
 "nbformat_minor": 2
}
